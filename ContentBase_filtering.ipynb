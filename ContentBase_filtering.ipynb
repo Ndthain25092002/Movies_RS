{
  "metadata": {
    "language_info": {
      "name": "python",
      "version": "3.6.6",
      "mimetype": "text/x-python",
      "codemirror_mode": {
        "name": "ipython",
        "version": 3
      },
      "pygments_lexer": "ipython3",
      "nbconvert_exporter": "python",
      "file_extension": ".py"
    },
    "kernelspec": {
      "display_name": "Python 3",
      "language": "python",
      "name": "python3"
    },
    "kaggle": {
      "accelerator": "gpu",
      "dataSources": [
        {
          "sourceId": 1187,
          "sourceType": "datasetVersion",
          "datasetId": 626
        }
      ],
      "dockerImageVersionId": 25160,
      "isInternetEnabled": false,
      "language": "python",
      "sourceType": "notebook",
      "isGpuEnabled": true
    },
    "colab": {
      "provenance": [],
      "include_colab_link": true
    }
  },
  "nbformat_minor": 0,
  "nbformat": 4,
  "cells": [
    {
      "cell_type": "markdown",
      "metadata": {
        "id": "view-in-github",
        "colab_type": "text"
      },
      "source": [
        "<a href=\"https://colab.research.google.com/github/Ndthain25092002/Movies_RS/blob/main/ContentBase_filtering.ipynb\" target=\"_parent\"><img src=\"https://colab.research.google.com/assets/colab-badge.svg\" alt=\"Open In Colab\"/></a>"
      ]
    },
    {
      "source": [
        "\n",
        "# IMPORTANT: RUN THIS CELL IN ORDER TO IMPORT YOUR KAGGLE DATA SOURCES\n",
        "# TO THE CORRECT LOCATION (/kaggle/input) IN YOUR NOTEBOOK,\n",
        "# THEN FEEL FREE TO DELETE THIS CELL.\n",
        "# NOTE: THIS NOTEBOOK ENVIRONMENT DIFFERS FROM KAGGLE'S PYTHON\n",
        "# ENVIRONMENT SO THERE MAY BE MISSING LIBRARIES USED BY YOUR\n",
        "# NOTEBOOK.\n",
        "\n",
        "import os\n",
        "import sys\n",
        "from tempfile import NamedTemporaryFile\n",
        "from urllib.request import urlopen\n",
        "from urllib.parse import unquote, urlparse\n",
        "from urllib.error import HTTPError\n",
        "from zipfile import ZipFile\n",
        "import tarfile\n",
        "import shutil\n",
        "\n",
        "CHUNK_SIZE = 40960\n",
        "DATA_SOURCE_MAPPING = ':https%3A%2F%2Fstorage.googleapis.com%2Fkaggle-data-sets%2F626%2F1187%2Fbundle%2Farchive.zip%3FX-Goog-Algorithm%3DGOOG4-RSA-SHA256%26X-Goog-Credential%3Dgcp-kaggle-com%2540kaggle-161607.iam.gserviceaccount.com%252F20240131%252Fauto%252Fstorage%252Fgoog4_request%26X-Goog-Date%3D20240131T132731Z%26X-Goog-Expires%3D259200%26X-Goog-SignedHeaders%3Dhost%26X-Goog-Signature%3Db6e3428660ff0cc22d83838c0c2a230caead9bcaa2eda34ea4410aa7bd46779351436f29e0f55cee5c55edfa1f00c09578f92feb4048a881c19bd829a544eb231d51e9f30c12841700d987b28b3a0059f2a1756044a4c9825d1614b1254fe9190c489ad28fba79e05b6999efd86c084975767d40a867c3827442d807f4a859e7d915b8e157291d15066557ea757182a1fe0b101bee50f45ca5f883dbaed7c6a744606d967c99d6a82c85e014bd574bcc098e5c03c1758951d9feae47aa28e590f0725c325bd4cd56aa268bc1061d26528484b9e2a7009b5064da3e42cccc5733cc083d63eb0d88946bbe4ad54bb4311a9f555e1698741b21ff44997d6fc0d1b6'\n",
        "\n",
        "KAGGLE_INPUT_PATH='/kaggle/input'\n",
        "KAGGLE_WORKING_PATH='/kaggle/working'\n",
        "KAGGLE_SYMLINK='kaggle'\n",
        "\n",
        "!umount /kaggle/input/ 2> /dev/null\n",
        "shutil.rmtree('/kaggle/input', ignore_errors=True)\n",
        "os.makedirs(KAGGLE_INPUT_PATH, 0o777, exist_ok=True)\n",
        "os.makedirs(KAGGLE_WORKING_PATH, 0o777, exist_ok=True)\n",
        "\n",
        "try:\n",
        "  os.symlink(KAGGLE_INPUT_PATH, os.path.join(\"..\", 'input'), target_is_directory=True)\n",
        "except FileExistsError:\n",
        "  pass\n",
        "try:\n",
        "  os.symlink(KAGGLE_WORKING_PATH, os.path.join(\"..\", 'working'), target_is_directory=True)\n",
        "except FileExistsError:\n",
        "  pass\n",
        "\n",
        "for data_source_mapping in DATA_SOURCE_MAPPING.split(','):\n",
        "    directory, download_url_encoded = data_source_mapping.split(':')\n",
        "    download_url = unquote(download_url_encoded)\n",
        "    filename = urlparse(download_url).path\n",
        "    destination_path = os.path.join(KAGGLE_INPUT_PATH, directory)\n",
        "    try:\n",
        "        with urlopen(download_url) as fileres, NamedTemporaryFile() as tfile:\n",
        "            total_length = fileres.headers['content-length']\n",
        "            print(f'Downloading {directory}, {total_length} bytes compressed')\n",
        "            dl = 0\n",
        "            data = fileres.read(CHUNK_SIZE)\n",
        "            while len(data) > 0:\n",
        "                dl += len(data)\n",
        "                tfile.write(data)\n",
        "                done = int(50 * dl / int(total_length))\n",
        "                sys.stdout.write(f\"\\r[{'=' * done}{' ' * (50-done)}] {dl} bytes downloaded\")\n",
        "                sys.stdout.flush()\n",
        "                data = fileres.read(CHUNK_SIZE)\n",
        "            if filename.endswith('.zip'):\n",
        "              with ZipFile(tfile) as zfile:\n",
        "                zfile.extractall(destination_path)\n",
        "            else:\n",
        "              with tarfile.open(tfile.name) as tarfile:\n",
        "                tarfile.extractall(destination_path)\n",
        "            print(f'\\nDownloaded and uncompressed: {directory}')\n",
        "    except HTTPError as e:\n",
        "        print(f'Failed to load (likely expired) {download_url} to path {destination_path}')\n",
        "        continue\n",
        "    except OSError as e:\n",
        "        print(f'Failed to load {download_url} to path {destination_path}')\n",
        "        continue\n",
        "\n",
        "print('Data source import complete.')\n"
      ],
      "metadata": {
        "id": "vcw6s9BAtBKk"
      },
      "cell_type": "code",
      "outputs": [],
      "execution_count": null
    },
    {
      "cell_type": "markdown",
      "source": [
        "Dùng linear regression với input là 1 ma trận feature và score đánh giá"
      ],
      "metadata": {
        "id": "YWR3j1FvtBKq"
      }
    },
    {
      "cell_type": "code",
      "source": [
        "import pandas as pd\n",
        "\n",
        "u_cols =  ['user_id', 'age', 'sex', 'occupation', 'zip_code']\n",
        "users = pd.read_csv('../input/ml-100k/u.user', sep='|', names=u_cols,\n",
        "encoding='latin-1')\n",
        "\n",
        "n_users = users.shape[0]\n",
        "print('Number of users:', n_users)\n"
      ],
      "metadata": {
        "execution": {
          "iopub.status.busy": "2024-01-06T18:11:07.019106Z",
          "iopub.execute_input": "2024-01-06T18:11:07.01949Z",
          "iopub.status.idle": "2024-01-06T18:11:07.052707Z",
          "shell.execute_reply.started": "2024-01-06T18:11:07.019427Z",
          "shell.execute_reply": "2024-01-06T18:11:07.051925Z"
        },
        "trusted": true,
        "id": "uMGRcvg5tBKt"
      },
      "execution_count": null,
      "outputs": []
    },
    {
      "cell_type": "code",
      "source": [
        "r_cols = ['user_id', 'movie_id', 'rating', 'unix_timestamp']\n",
        "\n",
        "ratings_base = pd.read_csv('../input/ml-100k/ua.base', sep='\\t', names=r_cols, encoding='latin-1')\n",
        "ratings_test = pd.read_csv('../input/ml-100k/ua.test', sep='\\t', names=r_cols, encoding='latin-1')\n",
        "\n",
        "rate_train = ratings_base.as_matrix()\n",
        "rate_test = ratings_test.as_matrix()\n",
        "print(ratings_base[0:20])\n",
        "\n",
        "print('Number of traing rates:', rate_train.shape[0])\n",
        "print('Number of test rates:', rate_test.shape[0])"
      ],
      "metadata": {
        "execution": {
          "iopub.status.busy": "2024-01-06T18:11:07.053964Z",
          "iopub.execute_input": "2024-01-06T18:11:07.05424Z",
          "iopub.status.idle": "2024-01-06T18:11:07.177816Z",
          "shell.execute_reply.started": "2024-01-06T18:11:07.054191Z",
          "shell.execute_reply": "2024-01-06T18:11:07.177149Z"
        },
        "trusted": true,
        "id": "_1rYx1lstBKu"
      },
      "execution_count": null,
      "outputs": []
    },
    {
      "cell_type": "code",
      "source": [
        "i_cols = ['movie id', 'movie title' ,'release date','video release date', 'IMDb URL', 'unknown', 'Action', 'Adventure',\n",
        " 'Animation', 'Children\\'s', 'Comedy', 'Crime', 'Documentary', 'Drama', 'Fantasy',\n",
        " 'Film-Noir', 'Horror', 'Musical', 'Mystery', 'Romance', 'Sci-Fi', 'Thriller', 'War', 'Western']\n",
        "\n",
        "items = pd.read_csv('../input/ml-100k/u.item', sep='|', names=i_cols,encoding='latin-1')\n",
        "\n",
        "n_items = items.shape[0]\n",
        "print(\"Number of items:\",n_items)"
      ],
      "metadata": {
        "execution": {
          "iopub.status.busy": "2024-01-06T18:11:07.178963Z",
          "iopub.execute_input": "2024-01-06T18:11:07.179231Z",
          "iopub.status.idle": "2024-01-06T18:11:07.207885Z",
          "shell.execute_reply.started": "2024-01-06T18:11:07.179187Z",
          "shell.execute_reply": "2024-01-06T18:11:07.207131Z"
        },
        "trusted": true,
        "id": "TwCUJnb1tBKv"
      },
      "execution_count": null,
      "outputs": []
    },
    {
      "cell_type": "markdown",
      "source": [],
      "metadata": {
        "id": "YAdO7pJetBKw"
      }
    },
    {
      "cell_type": "code",
      "source": [
        "X0 = items.as_matrix()\n",
        "#Thể loại phim ở 19 phần tử cuối X_train_counts là ma trận 1682x19 1682 bộ phim và 19 thể loại phim\n",
        "X_train_counts = X0[:, -19:]\n",
        "print(X_train_counts.shape)"
      ],
      "metadata": {
        "execution": {
          "iopub.status.busy": "2024-01-06T18:11:07.209385Z",
          "iopub.execute_input": "2024-01-06T18:11:07.209611Z",
          "iopub.status.idle": "2024-01-06T18:11:07.215812Z",
          "shell.execute_reply.started": "2024-01-06T18:11:07.209572Z",
          "shell.execute_reply": "2024-01-06T18:11:07.215086Z"
        },
        "trusted": true,
        "id": "F_VKIErntBKw"
      },
      "execution_count": null,
      "outputs": []
    },
    {
      "cell_type": "markdown",
      "source": [
        "Sử dụng hàm TD_IDF để chuyển đổi thành ma trận feature"
      ],
      "metadata": {
        "id": "lkUFMnXYtBKx"
      }
    },
    {
      "cell_type": "code",
      "source": [
        "from sklearn.feature_extraction.text import TfidfTransformer\n",
        "transformer = TfidfTransformer(smooth_idf=True, norm ='l2')\n",
        "tfidf = transformer.fit_transform(X_train_counts.tolist()).toarray()\n",
        "print(X_train_counts[0])\n",
        "#Mỗi hàng là các profile của các item (các bộ phim)\n",
        "print(tfidf[0])"
      ],
      "metadata": {
        "execution": {
          "iopub.status.busy": "2024-01-06T18:11:07.217285Z",
          "iopub.execute_input": "2024-01-06T18:11:07.217534Z",
          "iopub.status.idle": "2024-01-06T18:11:07.917913Z",
          "shell.execute_reply.started": "2024-01-06T18:11:07.217487Z",
          "shell.execute_reply": "2024-01-06T18:11:07.9171Z"
        },
        "trusted": true,
        "id": "E5ypM4nstBKy"
      },
      "execution_count": null,
      "outputs": []
    },
    {
      "cell_type": "code",
      "source": [
        "import numpy as np\n",
        "def get_items_rated_by_user(rate_matrix, user_id):\n",
        "    \"\"\"\n",
        "    return (item_ids, scores)\n",
        "    \"\"\"\n",
        "    y = rate_matrix[:,0] # users\n",
        "    # Lấy chỉ số đánh giá của user\n",
        "    # user_id bắt đầu = 1\n",
        "    ids = np.where(y == user_id +1)[0]\n",
        "    item_ids = rate_matrix[ids, 1] - 1 # ids - 1\n",
        "    scores = rate_matrix[ids, 2]\n",
        "    return (item_ids, scores)\n",
        "ids, scores = get_items_rated_by_user(rate_train, 0)\n",
        "list_head = np.concatenate((ids.reshape(len(ids),1), scores.reshape(len(scores),1)),axis = 1)[0:10]\n",
        "print(list_head)"
      ],
      "metadata": {
        "execution": {
          "iopub.status.busy": "2024-01-06T18:11:07.919203Z",
          "iopub.execute_input": "2024-01-06T18:11:07.919459Z",
          "iopub.status.idle": "2024-01-06T18:11:07.926683Z",
          "shell.execute_reply.started": "2024-01-06T18:11:07.919409Z",
          "shell.execute_reply": "2024-01-06T18:11:07.925685Z"
        },
        "trusted": true,
        "id": "E_kCkTZhtBKz"
      },
      "execution_count": null,
      "outputs": []
    },
    {
      "cell_type": "code",
      "source": [
        "from sklearn.linear_model import Ridge # mô hình linear regression với regularization\n",
        "\n",
        "d = tfidf.shape[1] # data dimension\n",
        "W = np.zeros((d, n_users))\n",
        "b = np.zeros((1, n_users))\n",
        "\n",
        "for n in range(n_users):\n",
        "    ids, scores = get_items_rated_by_user(rate_train, n)\n",
        "    clf = Ridge(alpha=0.01, fit_intercept  = True)\n",
        "    Xhat = tfidf[ids, :]\n",
        "\n",
        "    clf.fit(Xhat, scores)\n",
        "    W[:, n] = clf.coef_\n",
        "    b[0, n] = clf.intercept_"
      ],
      "metadata": {
        "execution": {
          "iopub.status.busy": "2024-01-06T18:11:07.927858Z",
          "iopub.execute_input": "2024-01-06T18:11:07.928153Z",
          "iopub.status.idle": "2024-01-06T18:11:09.038726Z",
          "shell.execute_reply.started": "2024-01-06T18:11:07.928102Z",
          "shell.execute_reply": "2024-01-06T18:11:09.037928Z"
        },
        "trusted": true,
        "id": "U2453BAgtBKz"
      },
      "execution_count": null,
      "outputs": []
    },
    {
      "cell_type": "code",
      "source": [
        "#model dự đoán\n",
        "Yhat = tfidf.dot(W) + b\n",
        "# print(Yhat[0])"
      ],
      "metadata": {
        "execution": {
          "iopub.status.busy": "2024-01-06T18:11:09.039935Z",
          "iopub.execute_input": "2024-01-06T18:11:09.04022Z",
          "iopub.status.idle": "2024-01-06T18:11:09.069253Z",
          "shell.execute_reply.started": "2024-01-06T18:11:09.040166Z",
          "shell.execute_reply": "2024-01-06T18:11:09.068005Z"
        },
        "trusted": true,
        "id": "KIA0umgftBKz"
      },
      "execution_count": null,
      "outputs": []
    },
    {
      "cell_type": "code",
      "source": [
        "n = 100\n",
        "ids, scores = get_items_rated_by_user(rate_test, 0)\n",
        "Yhat[n, ids]\n",
        "print('Rated movies ids:', ids )\n",
        "print('True ratings:', scores)\n",
        "print('Predicted ratings:', Yhat[ids, n])"
      ],
      "metadata": {
        "execution": {
          "iopub.status.busy": "2024-01-06T18:11:09.070707Z",
          "iopub.execute_input": "2024-01-06T18:11:09.071189Z",
          "iopub.status.idle": "2024-01-06T18:11:09.079626Z",
          "shell.execute_reply.started": "2024-01-06T18:11:09.070968Z",
          "shell.execute_reply": "2024-01-06T18:11:09.078645Z"
        },
        "trusted": true,
        "id": "Tt_48VBZtBK0"
      },
      "execution_count": null,
      "outputs": []
    },
    {
      "cell_type": "code",
      "source": [
        "from math import sqrt\n",
        "def evaluate(Yhat, rates, W, b):\n",
        "    se = 0\n",
        "    cnt = 0\n",
        "    for n in range(n_users):\n",
        "        ids, scores_truth = get_items_rated_by_user(rates, n)\n",
        "        scores_pred = Yhat[ids, n]\n",
        "        e = scores_truth - scores_pred\n",
        "        se += (e*e).sum(axis = 0)\n",
        "        cnt += e.size\n",
        "    return sqrt(se/cnt)\n"
      ],
      "metadata": {
        "execution": {
          "iopub.status.busy": "2024-01-06T18:11:09.08173Z",
          "iopub.execute_input": "2024-01-06T18:11:09.082379Z",
          "iopub.status.idle": "2024-01-06T18:11:09.090821Z",
          "shell.execute_reply.started": "2024-01-06T18:11:09.082114Z",
          "shell.execute_reply": "2024-01-06T18:11:09.089894Z"
        },
        "trusted": true,
        "id": "wOUfNY0ftBK0"
      },
      "execution_count": null,
      "outputs": []
    },
    {
      "cell_type": "code",
      "source": [
        "print('RMSE for training:', evaluate(Yhat, rate_train, W, b))\n",
        "print('RMSE for test    :', evaluate(Yhat, rate_test, W, b))"
      ],
      "metadata": {
        "execution": {
          "iopub.status.busy": "2024-01-06T18:11:09.093043Z",
          "iopub.execute_input": "2024-01-06T18:11:09.093799Z",
          "iopub.status.idle": "2024-01-06T18:11:09.238336Z",
          "shell.execute_reply.started": "2024-01-06T18:11:09.093313Z",
          "shell.execute_reply": "2024-01-06T18:11:09.2375Z"
        },
        "trusted": true,
        "id": "T3YUwmRitBK0"
      },
      "execution_count": null,
      "outputs": []
    },
    {
      "cell_type": "code",
      "source": [
        "threshold = 3.5\n",
        "\n",
        "def evaluate_precision_recall(Yhat, rates, W, b, threshold):\n",
        "    tp = 0  # true positive\n",
        "    fp = 0  # false positive\n",
        "    fn = 0  # false negative\n",
        "\n",
        "    for n in range(n_users):\n",
        "        ids, scores_truth = get_items_rated_by_user(rates, n)\n",
        "        scores_pred = Yhat[ids, n]\n",
        "\n",
        "        relevant_items = ids[scores_truth >= threshold]\n",
        "        recommended_items = ids[scores_pred >= threshold]\n",
        "\n",
        "        tp += len(set(relevant_items) & set(recommended_items))\n",
        "        fp += len(set(recommended_items) - set(relevant_items))\n",
        "        fn += len(set(relevant_items) - set(recommended_items))\n",
        "\n",
        "    precision = tp / (tp + fp) if (tp + fp) > 0 else 0\n",
        "    recall = tp / (tp + fn) if (tp + fn) > 0 else 0\n",
        "\n",
        "    return precision, recall\n",
        "\n",
        "precision, recall = evaluate_precision_recall(Yhat, rate_test, W, b, threshold)\n",
        "print('Precision:', precision)\n",
        "print('Recall:', recall)\n"
      ],
      "metadata": {
        "execution": {
          "iopub.status.busy": "2024-01-06T18:19:36.082946Z",
          "iopub.execute_input": "2024-01-06T18:19:36.083275Z",
          "iopub.status.idle": "2024-01-06T18:19:36.139457Z",
          "shell.execute_reply.started": "2024-01-06T18:19:36.083231Z",
          "shell.execute_reply": "2024-01-06T18:19:36.137939Z"
        },
        "trusted": true,
        "id": "cd7PwhIQtBK1"
      },
      "execution_count": null,
      "outputs": []
    }
  ]
}